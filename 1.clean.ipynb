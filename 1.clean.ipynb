{
 "cells": [
  {
   "cell_type": "markdown",
   "metadata": {},
   "source": [
    "# 1. Clean\n",
    "Separate labeled data into training, dev and test data; Build configuration files"
   ]
  },
  {
   "cell_type": "markdown",
   "metadata": {},
   "source": [
    "## Step 1:  Background set up"
   ]
  },
  {
   "cell_type": "code",
   "execution_count": 25,
   "metadata": {},
   "outputs": [
    {
     "name": "stdout",
     "output_type": "stream",
     "text": [
      "The autoreload extension is already loaded. To reload it, use:\n",
      "  %reload_ext autoreload\n"
     ]
    }
   ],
   "source": [
    "%load_ext autoreload\n",
    "%autoreload 2\n",
    "%reload_ext autoreload\n",
    "\n",
    "import logging\n",
    "\n",
    "logging.basicConfig(level=logging.INFO)\n"
   ]
  },
  {
   "cell_type": "markdown",
   "metadata": {},
   "source": [
    "## Step 2: Create Cleaner, separate data into training/dev/test sets (cleaner.split) "
   ]
  },
  {
   "cell_type": "code",
   "execution_count": 2,
   "metadata": {},
   "outputs": [],
   "source": [
    "from lib.cleaner import Cleaner\n",
    "\n",
    "# only need to build once\n",
    "cleaner = Cleaner()\n"
   ]
  },
  {
   "cell_type": "code",
   "execution_count": 36,
   "metadata": {},
   "outputs": [
    {
     "name": "stderr",
     "output_type": "stream",
     "text": [
      "INFO:lib.cleaner: saved 1125 instances to 2015-06_train.csv\n",
      "INFO:lib.cleaner: saved 300 instances to 2015-06_dev.csv\n",
      "INFO:lib.cleaner: saved 1125 instances to 2015-07_train.csv\n",
      "INFO:lib.cleaner: saved 300 instances to 2015-07_dev.csv\n",
      "INFO:lib.cleaner: saved 1125 instances to 2015-09_train.csv\n",
      "INFO:lib.cleaner: saved 300 instances to 2015-09_dev.csv\n",
      "INFO:lib.cleaner: saved 1125 instances to 2015-10_train.csv\n",
      "INFO:lib.cleaner: saved 300 instances to 2015-10_dev.csv\n",
      "INFO:lib.cleaner: saved 1125 instances to 2015-12_train.csv\n",
      "INFO:lib.cleaner: saved 300 instances to 2015-12_dev.csv\n",
      "INFO:lib.cleaner: saved 1125 instances to 2016-01_train.csv\n",
      "INFO:lib.cleaner: saved 300 instances to 2016-01_dev.csv\n",
      "INFO:lib.cleaner: saved 1125 instances to 2016-03_train.csv\n",
      "INFO:lib.cleaner: saved 300 instances to 2016-03_dev.csv\n",
      "INFO:lib.cleaner: saved 1125 instances to 2016-04_train.csv\n",
      "INFO:lib.cleaner: saved 300 instances to 2016-04_dev.csv\n",
      "INFO:lib.cleaner: saved 1125 instances to 2016-06_train.csv\n",
      "INFO:lib.cleaner: saved 300 instances to 2016-06_dev.csv\n",
      "INFO:lib.cleaner: saved 1125 instances to 2016-07_train.csv\n",
      "INFO:lib.cleaner: saved 300 instances to 2016-07_dev.csv\n",
      "INFO:lib.cleaner: saved 1125 instances to 2016-09_train.csv\n",
      "INFO:lib.cleaner: saved 300 instances to 2016-09_dev.csv\n",
      "INFO:lib.cleaner: saved 1125 instances to 2016-11_train.csv\n",
      "INFO:lib.cleaner: saved 300 instances to 2016-11_dev.csv\n",
      "INFO:lib.cleaner: saved 1125 instances to 2016-12_train.csv\n",
      "INFO:lib.cleaner: saved 300 instances to 2016-12_dev.csv\n",
      "INFO:lib.cleaner: saved 1125 instances to 2017-01_train.csv\n",
      "INFO:lib.cleaner: saved 300 instances to 2017-01_dev.csv\n",
      "INFO:lib.cleaner: saved 1125 instances to 2017-03_train.csv\n",
      "INFO:lib.cleaner: saved 300 instances to 2017-03_dev.csv\n",
      "INFO:lib.cleaner: saved 1125 instances to 2017-05_train.csv\n",
      "INFO:lib.cleaner: saved 300 instances to 2017-05_dev.csv\n",
      "INFO:lib.cleaner: saved 1125 instances to 2017-06_train.csv\n",
      "INFO:lib.cleaner: saved 300 instances to 2017-06_dev.csv\n",
      "INFO:lib.cleaner: saved 1125 instances to 2017-07_train.csv\n",
      "INFO:lib.cleaner: saved 300 instances to 2017-07_dev.csv\n",
      "INFO:lib.cleaner: saved 1125 instances to 2017-09_train.csv\n",
      "INFO:lib.cleaner: saved 300 instances to 2017-09_dev.csv\n",
      "INFO:lib.cleaner: saved 1125 instances to 2017-10_train.csv\n",
      "INFO:lib.cleaner: saved 300 instances to 2017-10_dev.csv\n",
      "INFO:lib.cleaner: saved 1125 instances to 2017-12_train.csv\n",
      "INFO:lib.cleaner: saved 300 instances to 2017-12_dev.csv\n",
      "INFO:lib.cleaner: saved 1125 instances to 2018-01_train.csv\n",
      "INFO:lib.cleaner: saved 300 instances to 2018-01_dev.csv\n"
     ]
    }
   ],
   "source": [
    "'''\n",
    "Split the data into training, dev and test set. Here the allocation is 0.75, 0.2, 0.05.\n",
    "'''\n",
    "\n",
    "directory_inp = 'data/label/'\n",
    "directory_out1 = 'data/dev/'\n",
    "directory_out2 = 'data/in_sample_test/'\n",
    "\n",
    "cleaner.split(directory_inp, directory_out1, directory_out2,  train=0.75, dev=0.2, test=0.05)\n"
   ]
  },
  {
   "cell_type": "markdown",
   "metadata": {
    "collapsed": true
   },
   "source": [
    "## Step 3: Generate config (cleaner.json_file)"
   ]
  },
  {
   "cell_type": "code",
   "execution_count": 3,
   "metadata": {},
   "outputs": [],
   "source": [
    "'''\n",
    "Build config files (for different dates, iterations) based on base_file\n",
    "'''\n",
    "\n",
    "# if need to change hyper-parameter, change it in the base_file\n",
    "\n",
    "directory_inp = 'data/label/'\n",
    "directory_out = 'data/config/'\n",
    "base_file = directory_out + 'basic_re.json'\n",
    "for i in range(5):\n",
    "    version = \"v\" + str(i)\n",
    "    cleaner.json_re_file(base_file, directory_inp, directory_out, version)\n",
    "\n"
   ]
  },
  {
   "cell_type": "code",
   "execution_count": null,
   "metadata": {
    "collapsed": true
   },
   "outputs": [],
   "source": []
  }
 ],
 "metadata": {
  "kernelspec": {
   "display_name": "Python 3",
   "language": "python",
   "name": "python3"
  },
  "language_info": {
   "codemirror_mode": {
    "name": "ipython",
    "version": 3
   },
   "file_extension": ".py",
   "mimetype": "text/x-python",
   "name": "python",
   "nbconvert_exporter": "python",
   "pygments_lexer": "ipython3",
   "version": "3.7.3"
  }
 },
 "nbformat": 4,
 "nbformat_minor": 2
}
