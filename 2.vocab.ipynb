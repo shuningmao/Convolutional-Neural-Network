{
 "cells": [
  {
   "cell_type": "markdown",
   "metadata": {},
   "source": [
    "# 2. Vocab\n",
    "\n",
    "Extract vocab from training set."
   ]
  },
  {
   "cell_type": "markdown",
   "metadata": {},
   "source": [
    "## Step 1:  Background set up"
   ]
  },
  {
   "cell_type": "code",
   "execution_count": 1,
   "metadata": {},
   "outputs": [],
   "source": [
    "%load_ext autoreload\n",
    "%autoreload 2\n",
    "%reload_ext autoreload\n",
    "\n",
    "import logging\n",
    "\n",
    "logging.basicConfig(level=logging.INFO)"
   ]
  },
  {
   "cell_type": "markdown",
   "metadata": {},
   "source": [
    "## Step 2: Build Vocab\n",
    "1. read data (load_csv)\n",
    "2. use threshold to filter out low-frequency phrases (condense)\n",
    "3. save vocab (save_vocab)"
   ]
  },
  {
   "cell_type": "code",
   "execution_count": 3,
   "metadata": {},
   "outputs": [],
   "source": [
    "from lib.vocab import Vocab\n",
    "import lib.tools as tools\n",
    "\n"
   ]
  },
  {
   "cell_type": "code",
   "execution_count": 5,
   "metadata": {},
   "outputs": [
    {
     "name": "stderr",
     "output_type": "stream",
     "text": [
      "INFO:lib.vocab: vocab loaded from data/dev/2016-09_train.csv\n",
      "INFO:lib.vocab: 650 vocab saved to data/vocab/2016-09_vocab.csv\n",
      "INFO:lib.vocab: vocab loaded from data/dev/2015-07_train.csv\n",
      "INFO:lib.vocab: 675 vocab saved to data/vocab/2015-07_vocab.csv\n",
      "INFO:lib.vocab: vocab loaded from data/dev/2016-04_train.csv\n",
      "INFO:lib.vocab: 651 vocab saved to data/vocab/2016-04_vocab.csv\n",
      "INFO:lib.vocab: vocab loaded from data/dev/2017-09_train.csv\n",
      "INFO:lib.vocab: 702 vocab saved to data/vocab/2017-09_vocab.csv\n",
      "INFO:lib.vocab: vocab loaded from data/dev/2017-10_train.csv\n",
      "INFO:lib.vocab: 684 vocab saved to data/vocab/2017-10_vocab.csv\n",
      "INFO:lib.vocab: vocab loaded from data/dev/2018-01_train.csv\n",
      "INFO:lib.vocab: 748 vocab saved to data/vocab/2018-01_vocab.csv\n",
      "INFO:lib.vocab: vocab loaded from data/dev/2016-11_train.csv\n",
      "INFO:lib.vocab: 698 vocab saved to data/vocab/2016-11_vocab.csv\n",
      "INFO:lib.vocab: vocab loaded from data/dev/2015-12_train.csv\n",
      "INFO:lib.vocab: 662 vocab saved to data/vocab/2015-12_vocab.csv\n",
      "INFO:lib.vocab: vocab loaded from data/dev/2015-06_train.csv\n",
      "INFO:lib.vocab: 697 vocab saved to data/vocab/2015-06_vocab.csv\n",
      "INFO:lib.vocab: vocab loaded from data/dev/2017-03_train.csv\n",
      "INFO:lib.vocab: 651 vocab saved to data/vocab/2017-03_vocab.csv\n",
      "INFO:lib.vocab: vocab loaded from data/dev/2017-05_train.csv\n",
      "INFO:lib.vocab: 665 vocab saved to data/vocab/2017-05_vocab.csv\n",
      "INFO:lib.vocab: vocab loaded from data/dev/2016-03_train.csv\n",
      "INFO:lib.vocab: 666 vocab saved to data/vocab/2016-03_vocab.csv\n",
      "INFO:lib.vocab: vocab loaded from data/dev/2016-06_train.csv\n",
      "INFO:lib.vocab: 646 vocab saved to data/vocab/2016-06_vocab.csv\n",
      "INFO:lib.vocab: vocab loaded from data/dev/2016-12_train.csv\n",
      "INFO:lib.vocab: 676 vocab saved to data/vocab/2016-12_vocab.csv\n",
      "INFO:lib.vocab: vocab loaded from data/dev/2017-06_train.csv\n",
      "INFO:lib.vocab: 675 vocab saved to data/vocab/2017-06_vocab.csv\n",
      "INFO:lib.vocab: vocab loaded from data/dev/2017-12_train.csv\n",
      "INFO:lib.vocab: 649 vocab saved to data/vocab/2017-12_vocab.csv\n",
      "INFO:lib.vocab: vocab loaded from data/dev/2015-09_train.csv\n",
      "INFO:lib.vocab: 640 vocab saved to data/vocab/2015-09_vocab.csv\n",
      "INFO:lib.vocab: vocab loaded from data/dev/2015-10_train.csv\n",
      "INFO:lib.vocab: 621 vocab saved to data/vocab/2015-10_vocab.csv\n",
      "INFO:lib.vocab: vocab loaded from data/dev/2016-07_train.csv\n",
      "INFO:lib.vocab: 634 vocab saved to data/vocab/2016-07_vocab.csv\n",
      "INFO:lib.vocab: vocab loaded from data/dev/2017-01_train.csv\n",
      "INFO:lib.vocab: 688 vocab saved to data/vocab/2017-01_vocab.csv\n",
      "INFO:lib.vocab: vocab loaded from data/dev/2016-01_train.csv\n",
      "INFO:lib.vocab: 670 vocab saved to data/vocab/2016-01_vocab.csv\n",
      "INFO:lib.vocab: vocab loaded from data/dev/2017-07_train.csv\n",
      "INFO:lib.vocab: 669 vocab saved to data/vocab/2017-07_vocab.csv\n"
     ]
    }
   ],
   "source": [
    "\n",
    "directory_inp = 'data/dev/'\n",
    "directory_out = 'data/vocab/'\n",
    "fn = tools.read_all_files(directory_inp)\n",
    "\n",
    "\n",
    "for fn_inp in fn:\n",
    "    if '_train.csv' in fn_inp:\n",
    "        vocab = Vocab()\n",
    "        \n",
    "        vocab.load_csv(directory_inp + fn_inp, col = 2) # text data in column C, so col = 2\n",
    "        \n",
    "        vocab = vocab.condense(threshold= 3) # remove words with less than 2 occurrences\n",
    "        \n",
    "        fn_out = fn_inp.replace(\"_train.csv\", \"_vocab.csv\")\n",
    "        vocab.save_vocab(directory_out + fn_out)\n",
    "    "
   ]
  },
  {
   "cell_type": "code",
   "execution_count": null,
   "metadata": {
    "collapsed": true
   },
   "outputs": [],
   "source": []
  },
  {
   "cell_type": "code",
   "execution_count": null,
   "metadata": {
    "collapsed": true
   },
   "outputs": [],
   "source": []
  }
 ],
 "metadata": {
  "kernelspec": {
   "display_name": "Python 3",
   "language": "python",
   "name": "python3"
  },
  "language_info": {
   "codemirror_mode": {
    "name": "ipython",
    "version": 3
   },
   "file_extension": ".py",
   "mimetype": "text/x-python",
   "name": "python",
   "nbconvert_exporter": "python",
   "pygments_lexer": "ipython3",
   "version": "3.7.3"
  }
 },
 "nbformat": 4,
 "nbformat_minor": 2
}
