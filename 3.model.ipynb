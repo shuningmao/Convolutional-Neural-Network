{
 "cells": [
  {
   "cell_type": "markdown",
   "metadata": {},
   "source": [
    "<h1>3. Model</h1>\n",
    "\n",
    "Train/Test the models"
   ]
  },
  {
   "cell_type": "markdown",
   "metadata": {},
   "source": [
    "## Step 1: Background setup"
   ]
  },
  {
   "cell_type": "code",
   "execution_count": 1,
   "metadata": {},
   "outputs": [],
   "source": [
    "%load_ext autoreload\n",
    "%autoreload 2\n",
    "%reload_ext autoreload\n",
    "\n",
    "import logging\n",
    "\n",
    "logging.basicConfig(level=logging.INFO)\n"
   ]
  },
  {
   "cell_type": "markdown",
   "metadata": {},
   "source": [
    "## Step 2: Build the CNN Model"
   ]
  },
  {
   "cell_type": "code",
   "execution_count": 2,
   "metadata": {},
   "outputs": [
    {
     "name": "stderr",
     "output_type": "stream",
     "text": [
      "WARNING:tensorflow:\n",
      "The TensorFlow contrib module will not be included in TensorFlow 2.0.\n",
      "For more information, please see:\n",
      "  * https://github.com/tensorflow/community/blob/master/rfcs/20180907-contrib-sunset.md\n",
      "  * https://github.com/tensorflow/addons\n",
      "  * https://github.com/tensorflow/io (for I/O related ops)\n",
      "If you depend on functionality not listed there, please file an issue.\n",
      "\n"
     ]
    }
   ],
   "source": [
    "from lib.model_cnn_re import CNNModel"
   ]
  },
  {
   "cell_type": "code",
   "execution_count": 4,
   "metadata": {},
   "outputs": [
    {
     "name": "stderr",
     "output_type": "stream",
     "text": [
      "INFO:lib.vocab: 697 vocab loaded from data/vocab/2015-06_vocab.csv\n"
     ]
    },
    {
     "name": "stdout",
     "output_type": "stream",
     "text": [
      "data/config/2015-06_v0_config.json\n",
      "\n",
      "\n",
      "TRAINING\n",
      "\n",
      "\n"
     ]
    },
    {
     "name": "stderr",
     "output_type": "stream",
     "text": [
      "INFO:lib.loader: 1125 instances loaded from data/dev/2015-06_train.csv\n",
      "INFO:lib.loader: 300 instances loaded from data/dev/2015-06_dev.csv\n",
      "INFO:lib.loader: 75 instances loaded from data/in_sample_test/2015-06_test.csv\n",
      "INFO:lib.model: train(2223), dev(606), test(75).\n"
     ]
    },
    {
     "name": "stdout",
     "output_type": "stream",
     "text": [
      "0 741\n",
      "2 272\n",
      "1 112\n",
      "oversample from 1125 to 2223\n",
      "0 202\n",
      "2 70\n",
      "1 28\n",
      "oversample from 300 to 606\n",
      "Epoch 0\n",
      "Epoch 1 : mean epoch loss: 1.0734375, mean batch loss: 1.0767505      \n",
      "Epoch 2 : mean epoch loss: 1.0369868, mean batch loss: 1.0450716      \n",
      "Epoch 3 : mean epoch loss: 0.99116045, mean batch loss: 1.0029268      \n",
      "Epoch 4 : mean epoch loss: 0.9377545, mean batch loss: 0.9494854        \n",
      "Epoch 5 : mean epoch loss: 0.883901, mean batch loss: 0.8923528         \n",
      "Epoch 6 : mean epoch loss: 0.8362699, mean batch loss: 0.83957535       \n",
      "Epoch 7 : mean epoch loss: 0.7972388, mean batch loss: 0.79529          \n",
      "Epoch 8 : mean epoch loss: 0.7673228, mean batch loss: 0.76274997      \n",
      "Epoch 9 : mean epoch loss: 0.7453934, mean batch loss: 0.7410381        \n",
      "Epoch 10: mean epoch loss: 0.729331, mean batch loss: 0.72616005        \n",
      "Epoch 11: mean epoch loss: 0.7168895, mean batch loss: 0.71636444       \n",
      "Epoch 12: mean epoch loss: 0.70703864, mean batch loss: 0.71182895      \n",
      "Epoch 13: mean epoch loss: 0.69876254, mean batch loss: 0.7089913       \n",
      "Epoch 14: mean epoch loss: 0.6904223, mean batch loss: 0.7041304        \n",
      "Epoch 15: mean epoch loss: 0.6838486, mean batch loss: 0.7018786        \n",
      "Epoch 16: mean epoch loss: 0.67874014, mean batch loss: 0.7008631       \n",
      "Epoch 17: mean epoch loss: 0.6748121, mean batch loss: 0.699891         \n",
      "Epoch 18: mean epoch loss: 0.6707591, mean batch loss: 0.69782054       \n",
      "Epoch 19: mean epoch loss: 0.6671291, mean batch loss: 0.6949816        \n",
      "Epoch 20: mean epoch loss: 0.6641146, mean batch loss: 0.69367003       \n",
      "Epoch 21: mean epoch loss: 0.6612638, mean batch loss: 0.6908258        \n",
      "Epoch 22: mean epoch loss: 0.6588542, mean batch loss: 0.68971056      \n",
      "Epoch 23: mean epoch loss: 0.6568152, mean batch loss: 0.6871702        \n",
      "Epoch 24: mean epoch loss: 0.65549064, mean batch loss: 0.6867086       \n",
      "Epoch 25: mean epoch loss: 0.65353537, mean batch loss: 0.6817342       \n",
      "Epoch 26: mean epoch loss: 0.6520449, mean batch loss: 0.6801466        \n",
      "Epoch 27: mean epoch loss: 0.6512177, mean batch loss: 0.68013316       \n",
      "Epoch 28: mean epoch loss: 0.64909303, mean batch loss: 0.67673004      \n",
      "Epoch 29: mean epoch loss: 0.6481465, mean batch loss: 0.67606723       \n",
      "Epoch 30: mean epoch loss: 0.64707613, mean batch loss: 0.67586386      \n",
      "Epoch 31: mean epoch loss: 0.64529085, mean batch loss: 0.67360806      \n",
      "0 / 2 : mean epoch loss: 0.6424037, mean batch loss: 0.6424037          \n",
      "=================================================\n",
      "\n",
      "*** Test Loss: 0.64262253\n",
      "\n",
      "=================================================\n",
      "\n"
     ]
    },
    {
     "name": "stderr",
     "output_type": "stream",
     "text": [
      "INFO:lib.vocab: 697 vocab loaded from data/vocab/2015-06_vocab.csv\n"
     ]
    },
    {
     "name": "stdout",
     "output_type": "stream",
     "text": [
      "data/config/2015-06_v1_config.json\n",
      "\n",
      "\n",
      "TRAINING\n",
      "\n",
      "\n"
     ]
    },
    {
     "name": "stderr",
     "output_type": "stream",
     "text": [
      "INFO:lib.loader: 1125 instances loaded from data/dev/2015-06_train.csv\n",
      "INFO:lib.loader: 300 instances loaded from data/dev/2015-06_dev.csv\n",
      "INFO:lib.loader: 75 instances loaded from data/in_sample_test/2015-06_test.csv\n",
      "INFO:lib.model: train(2223), dev(606), test(75).\n"
     ]
    },
    {
     "name": "stdout",
     "output_type": "stream",
     "text": [
      "0 741\n",
      "2 272\n",
      "1 112\n",
      "oversample from 1125 to 2223\n",
      "0 202\n",
      "2 70\n",
      "1 28\n",
      "oversample from 300 to 606\n",
      "Epoch 0\n",
      "Epoch 1 : mean epoch loss: 1.0702617, mean batch loss: 1.0652957      \n",
      "Epoch 2 : mean epoch loss: 1.0374501, mean batch loss: 1.0257497      \n",
      "Epoch 3 : mean epoch loss: 0.9999875, mean batch loss: 0.98361826      \n",
      "Epoch 4 : mean epoch loss: 0.95750666, mean batch loss: 0.937405        \n",
      "Epoch 5 : mean epoch loss: 0.91273, mean batch loss: 0.89085674         \n",
      "Epoch 6 : mean epoch loss: 0.8699836, mean batch loss: 0.84630144       \n",
      "Epoch 7 : mean epoch loss: 0.8297221, mean batch loss: 0.80401754       \n",
      "Epoch 8 : mean epoch loss: 0.791289, mean batch loss: 0.76183116        \n",
      "Epoch 9 : mean epoch loss: 0.75778353, mean batch loss: 0.7236833       \n",
      "Epoch 10: mean epoch loss: 0.7317585, mean batch loss: 0.6936115        \n",
      "Epoch 11: mean epoch loss: 0.7147252, mean batch loss: 0.6736819        \n",
      "Epoch 12: mean epoch loss: 0.7025855, mean batch loss: 0.6603135        \n",
      "Epoch 13: mean epoch loss: 0.6941381, mean batch loss: 0.6503883        \n",
      "Epoch 14: mean epoch loss: 0.6887155, mean batch loss: 0.64385486       \n",
      "Epoch 15: mean epoch loss: 0.68406856, mean batch loss: 0.6383345       \n",
      "Epoch 16: mean epoch loss: 0.680269, mean batch loss: 0.63272583        \n",
      "Epoch 17: mean epoch loss: 0.6784128, mean batch loss: 0.62825          \n",
      "Epoch 18: mean epoch loss: 0.6753799, mean batch loss: 0.6223067        \n",
      "Epoch 19: mean epoch loss: 0.673084, mean batch loss: 0.61833024        \n",
      "Epoch 20: mean epoch loss: 0.67084897, mean batch loss: 0.6150766       \n",
      "Epoch 21: mean epoch loss: 0.6694945, mean batch loss: 0.61271787       \n",
      "Epoch 22: mean epoch loss: 0.668252, mean batch loss: 0.6102025         \n",
      "Epoch 23: mean epoch loss: 0.666549, mean batch loss: 0.6077486         \n",
      "Epoch 24: mean epoch loss: 0.6650138, mean batch loss: 0.606852         \n",
      "Epoch 25: mean epoch loss: 0.66209674, mean batch loss: 0.6062554       \n",
      "Epoch 26: mean epoch loss: 0.65754825, mean batch loss: 0.6045921       \n",
      "Epoch 27: mean epoch loss: 0.6515709, mean batch loss: 0.60177326       \n",
      "Epoch 28: mean epoch loss: 0.6494058, mean batch loss: 0.6031734        \n",
      "Epoch 29: mean epoch loss: 0.64702773, mean batch loss: 0.60087717      \n",
      "Epoch 30: mean epoch loss: 0.6468512, mean batch loss: 0.60174483       \n",
      "Epoch 31: mean epoch loss: 0.6464954, mean batch loss: 0.60012597       \n",
      "0 / 2 : mean epoch loss: 0.63986087, mean batch loss: 0.63986087        \r"
     ]
    },
    {
     "name": "stderr",
     "output_type": "stream",
     "text": [
      "INFO:lib.vocab: 697 vocab loaded from data/vocab/2015-06_vocab.csv\n"
     ]
    },
    {
     "name": "stdout",
     "output_type": "stream",
     "text": [
      "\n",
      "=================================================\n",
      "\n",
      "*** Test Loss: 0.65601647\n",
      "\n",
      "=================================================\n",
      "\n",
      "data/config/2015-06_v2_config.json\n",
      "\n",
      "\n",
      "TRAINING\n",
      "\n",
      "\n"
     ]
    },
    {
     "name": "stderr",
     "output_type": "stream",
     "text": [
      "INFO:lib.loader: 1125 instances loaded from data/dev/2015-06_train.csv\n",
      "INFO:lib.loader: 300 instances loaded from data/dev/2015-06_dev.csv\n",
      "INFO:lib.loader: 75 instances loaded from data/in_sample_test/2015-06_test.csv\n",
      "INFO:lib.model: train(2223), dev(606), test(75).\n"
     ]
    },
    {
     "name": "stdout",
     "output_type": "stream",
     "text": [
      "0 741\n",
      "2 272\n",
      "1 112\n",
      "oversample from 1125 to 2223\n",
      "0 202\n",
      "2 70\n",
      "1 28\n",
      "oversample from 300 to 606\n",
      "Epoch 0\n",
      "Epoch 1 : mean epoch loss: 1.0634952, mean batch loss: 1.0633478      \n",
      "Epoch 2 : mean epoch loss: 1.0161996, mean batch loss: 1.0164483       \n",
      "Epoch 3 : mean epoch loss: 0.9717213, mean batch loss: 0.97122574      \n",
      "Epoch 4 : mean epoch loss: 0.9325381, mean batch loss: 0.9335188        \n",
      "Epoch 5 : mean epoch loss: 0.89379364, mean batch loss: 0.90183365      \n",
      "Epoch 6 : mean epoch loss: 0.8553742, mean batch loss: 0.8755577        \n",
      "Epoch 7 : mean epoch loss: 0.81927514, mean batch loss: 0.8537407       \n",
      "Epoch 8 : mean epoch loss: 0.787007, mean batch loss: 0.83429307        \n",
      "Epoch 9 : mean epoch loss: 0.7600293, mean batch loss: 0.81889766       \n",
      "Epoch 10: mean epoch loss: 0.73851883, mean batch loss: 0.80759186      \n",
      "Epoch 11: mean epoch loss: 0.72093236, mean batch loss: 0.7944443       \n",
      "Epoch 12: mean epoch loss: 0.7080406, mean batch loss: 0.7847403       \n",
      "Epoch 13: mean epoch loss: 0.69782066, mean batch loss: 0.77671105      \n",
      "Epoch 14: mean epoch loss: 0.68936265, mean batch loss: 0.7681278       \n",
      "Epoch 15: mean epoch loss: 0.68285954, mean batch loss: 0.7619929       \n",
      "Epoch 16: mean epoch loss: 0.67684925, mean batch loss: 0.7560289       \n",
      "Epoch 17: mean epoch loss: 0.6715026, mean batch loss: 0.7478728       \n",
      "Epoch 18: mean epoch loss: 0.66783977, mean batch loss: 0.746395        \n",
      "Epoch 19: mean epoch loss: 0.66437316, mean batch loss: 0.7410607      \n",
      "Epoch 20: mean epoch loss: 0.6614464, mean batch loss: 0.73623866       \n",
      "Epoch 21: mean epoch loss: 0.659507, mean batch loss: 0.7333121        \n",
      "Epoch 22: mean epoch loss: 0.65736544, mean batch loss: 0.728143        \n",
      "Epoch 23: mean epoch loss: 0.6550331, mean batch loss: 0.7256969        \n",
      "Epoch 24: mean epoch loss: 0.6532264, mean batch loss: 0.72314936       \n",
      "Epoch 25: mean epoch loss: 0.6520256, mean batch loss: 0.7213788        \n",
      "Epoch 26: mean epoch loss: 0.6504353, mean batch loss: 0.7206219        \n",
      "Epoch 27: mean epoch loss: 0.64966655, mean batch loss: 0.72055244      \n",
      "Epoch 28: mean epoch loss: 0.6491182, mean batch loss: 0.7177843        \n",
      "Epoch 29: mean epoch loss: 0.64816785, mean batch loss: 0.7194289       \n",
      "Epoch 30: mean epoch loss: 0.6475133, mean batch loss: 0.7182779        \n",
      "Epoch 31: mean epoch loss: 0.64711034, mean batch loss: 0.71891963      \n",
      "0 / 2 : mean epoch loss: 0.6124968, mean batch loss: 0.6124968          \n",
      "=================================================\n",
      "\n",
      "*** Test Loss: 0.62898016\n",
      "\n",
      "=================================================\n",
      "\n",
      "data/config/2015-06_v3_config.json\n",
      "\n",
      "\n",
      "TRAINING\n",
      "\n",
      "\n"
     ]
    },
    {
     "name": "stderr",
     "output_type": "stream",
     "text": [
      "INFO:lib.vocab: 697 vocab loaded from data/vocab/2015-06_vocab.csv\n",
      "INFO:lib.loader: 1125 instances loaded from data/dev/2015-06_train.csv\n",
      "INFO:lib.loader: 300 instances loaded from data/dev/2015-06_dev.csv\n",
      "INFO:lib.loader: 75 instances loaded from data/in_sample_test/2015-06_test.csv\n",
      "INFO:lib.model: train(2223), dev(606), test(75).\n"
     ]
    },
    {
     "name": "stdout",
     "output_type": "stream",
     "text": [
      "0 741\n",
      "2 272\n",
      "1 112\n",
      "oversample from 1125 to 2223\n",
      "0 202\n",
      "2 70\n",
      "1 28\n",
      "oversample from 300 to 606\n",
      "Epoch 0\n",
      "Epoch 1 : mean epoch loss: 1.0803685, mean batch loss: 1.084038       \n",
      "Epoch 2 : mean epoch loss: 1.0563844, mean batch loss: 1.0599467      \n",
      "Epoch 3 : mean epoch loss: 1.0222237, mean batch loss: 1.0295343      \n",
      "Epoch 4 : mean epoch loss: 0.9777626, mean batch loss: 0.990032        \n",
      "Epoch 5 : mean epoch loss: 0.92669666, mean batch loss: 0.94113696      \n",
      "Epoch 6 : mean epoch loss: 0.8734517, mean batch loss: 0.8865516        \n",
      "Epoch 7 : mean epoch loss: 0.8238471, mean batch loss: 0.8303573        \n",
      "Epoch 8 : mean epoch loss: 0.7847024, mean batch loss: 0.77964437       \n",
      "Epoch 9 : mean epoch loss: 0.75729084, mean batch loss: 0.7415156       \n",
      "Epoch 10: mean epoch loss: 0.7377779, mean batch loss: 0.71297306       \n",
      "Epoch 11: mean epoch loss: 0.7240988, mean batch loss: 0.6933358        \n",
      "Epoch 12: mean epoch loss: 0.71420956, mean batch loss: 0.68045557      \n",
      "Epoch 13: mean epoch loss: 0.706118, mean batch loss: 0.6706136         \n",
      "Epoch 14: mean epoch loss: 0.69924814, mean batch loss: 0.66358596      \n",
      "Epoch 15: mean epoch loss: 0.6939451, mean batch loss: 0.657587        \n",
      "Epoch 16: mean epoch loss: 0.6897721, mean batch loss: 0.652809        \n",
      "Epoch 17: mean epoch loss: 0.6854178, mean batch loss: 0.64945734       \n",
      "Epoch 18: mean epoch loss: 0.6824524, mean batch loss: 0.6471274        \n",
      "Epoch 19: mean epoch loss: 0.6803597, mean batch loss: 0.64589643       \n",
      "Epoch 20: mean epoch loss: 0.6782301, mean batch loss: 0.6446514        \n",
      "Epoch 21: mean epoch loss: 0.6771999, mean batch loss: 0.64454764       \n",
      "Epoch 22: mean epoch loss: 0.67536545, mean batch loss: 0.6440748       \n",
      "Epoch 23: mean epoch loss: 0.67367816, mean batch loss: 0.64376485      \n",
      "Epoch 24: mean epoch loss: 0.6728382, mean batch loss: 0.6433269        \n",
      "Epoch 25: mean epoch loss: 0.67182535, mean batch loss: 0.64287287      \n",
      "Epoch 26: mean epoch loss: 0.6706835, mean batch loss: 0.643426         \n",
      "Epoch 27: mean epoch loss: 0.67014897, mean batch loss: 0.6443708       \n",
      "Epoch 28: mean epoch loss: 0.66905844, mean batch loss: 0.64430165      \n",
      "Epoch 29: mean epoch loss: 0.66863114, mean batch loss: 0.6434895       \n",
      "Epoch 30: mean epoch loss: 0.6678455, mean batch loss: 0.6436328       \n",
      "Epoch 31: mean epoch loss: 0.66706437, mean batch loss: 0.6440235       \n",
      "0 / 2 : mean epoch loss: 0.62665445, mean batch loss: 0.62665445        \n",
      "=================================================\n",
      "\n",
      "*** Test Loss: 0.64803565\n",
      "\n",
      "=================================================\n",
      "\n"
     ]
    },
    {
     "name": "stderr",
     "output_type": "stream",
     "text": [
      "INFO:lib.vocab: 697 vocab loaded from data/vocab/2015-06_vocab.csv\n"
     ]
    },
    {
     "name": "stdout",
     "output_type": "stream",
     "text": [
      "data/config/2015-06_v4_config.json\n",
      "\n",
      "\n",
      "TRAINING\n",
      "\n",
      "\n"
     ]
    },
    {
     "name": "stderr",
     "output_type": "stream",
     "text": [
      "INFO:lib.loader: 1125 instances loaded from data/dev/2015-06_train.csv\n",
      "INFO:lib.loader: 300 instances loaded from data/dev/2015-06_dev.csv\n",
      "INFO:lib.loader: 75 instances loaded from data/in_sample_test/2015-06_test.csv\n",
      "INFO:lib.model: train(2223), dev(606), test(75).\n"
     ]
    },
    {
     "name": "stdout",
     "output_type": "stream",
     "text": [
      "0 741\n",
      "2 272\n",
      "1 112\n",
      "oversample from 1125 to 2223\n",
      "0 202\n",
      "2 70\n",
      "1 28\n",
      "oversample from 300 to 606\n",
      "Epoch 0\n",
      "Epoch 1 : mean epoch loss: 1.080813, mean batch loss: 1.0796664       \n",
      "Epoch 2 : mean epoch loss: 1.0545442, mean batch loss: 1.0455855      \n",
      "Epoch 3 : mean epoch loss: 1.0133343, mean batch loss: 0.9967199      \n",
      "Epoch 4 : mean epoch loss: 0.9556575, mean batch loss: 0.93161595       \n",
      "Epoch 5 : mean epoch loss: 0.89056623, mean batch loss: 0.86169565      \n",
      "Epoch 6 : mean epoch loss: 0.8329426, mean batch loss: 0.8019805        \n",
      "Epoch 7 : mean epoch loss: 0.7869477, mean batch loss: 0.75575304       \n",
      "Epoch 8 : mean epoch loss: 0.75237393, mean batch loss: 0.7196561       \n",
      "Epoch 9 : mean epoch loss: 0.7273801, mean batch loss: 0.6921797        \n",
      "Epoch 10: mean epoch loss: 0.70854473, mean batch loss: 0.6687342       \n",
      "Epoch 11: mean epoch loss: 0.69491446, mean batch loss: 0.6511767       \n",
      "Epoch 12: mean epoch loss: 0.68507135, mean batch loss: 0.63757634      \n",
      "Epoch 13: mean epoch loss: 0.67658657, mean batch loss: 0.62701225      \n",
      "Epoch 14: mean epoch loss: 0.66960406, mean batch loss: 0.61818695      \n",
      "Epoch 15: mean epoch loss: 0.6638226, mean batch loss: 0.6118829        \n",
      "Epoch 16: mean epoch loss: 0.6592008, mean batch loss: 0.60639966       \n",
      "Epoch 17: mean epoch loss: 0.65511084, mean batch loss: 0.6039555      \n",
      "Epoch 18: mean epoch loss: 0.6512352, mean batch loss: 0.6001946        \n",
      "Epoch 19: mean epoch loss: 0.64898723, mean batch loss: 0.5977786       \n",
      "Epoch 20: mean epoch loss: 0.64717513, mean batch loss: 0.5953756       \n",
      "Epoch 21: mean epoch loss: 0.64628446, mean batch loss: 0.5958073       \n",
      "Epoch 22: mean epoch loss: 0.64524055, mean batch loss: 0.5931953       \n",
      "Epoch 23: mean epoch loss: 0.6446052, mean batch loss: 0.59162223       \n",
      "Epoch 24: mean epoch loss: 0.64451885, mean batch loss: 0.59084475      \n",
      "Epoch 25: mean epoch loss: 0.6438498, mean batch loss: 0.5918081        \n",
      "Epoch 26: mean epoch loss: 0.64248896, mean batch loss: 0.591043        \n",
      "Epoch 27: mean epoch loss: 0.64256924, mean batch loss: 0.59107184      \n",
      "Epoch 28: mean epoch loss: 0.6420791, mean batch loss: 0.5905299       \n",
      "Epoch 29: mean epoch loss: 0.6427137, mean batch loss: 0.59112555       \n",
      "Epoch 30: mean epoch loss: 0.64205563, mean batch loss: 0.5916405       \n",
      "Epoch 31: mean epoch loss: 0.6415813, mean batch loss: 0.59056705       \n",
      "0 / 2 : mean epoch loss: 0.62019706, mean batch loss: 0.62019706        \n",
      "=================================================\n",
      "\n",
      "*** Test Loss: 0.6415597\n",
      "\n",
      "=================================================\n",
      "\n"
     ]
    }
   ],
   "source": [
    "meeting_list = ['2015-06']\n",
    "\n",
    "for meeting in meeting_list:\n",
    "    for i in range(5):\n",
    "        version = 'v' + str(i)\n",
    "        json = 'data/config/<meeting>_<version>_config.json'\n",
    "        json = json.replace('<meeting>', meeting)\n",
    "        json = json.replace('<version>', version)\n",
    "        print(json)\n",
    "        model = CNNModel(json)\n",
    "        model = model.train()\n"
   ]
  },
  {
   "cell_type": "markdown",
   "metadata": {},
   "source": [
    "## Step 3: Test the model/ Prediction"
   ]
  },
  {
   "cell_type": "code",
   "execution_count": 5,
   "metadata": {},
   "outputs": [],
   "source": [
    "from lib.model_cnn_re import CNNModel\n",
    "from lib.tools import analysis"
   ]
  },
  {
   "cell_type": "code",
   "execution_count": 6,
   "metadata": {},
   "outputs": [
    {
     "name": "stderr",
     "output_type": "stream",
     "text": [
      "INFO:lib.vocab: 697 vocab loaded from data/vocab/2015-06_vocab.csv\n"
     ]
    },
    {
     "name": "stdout",
     "output_type": "stream",
     "text": [
      "\n",
      "\n",
      "PREDICTING\n",
      "\n",
      "\n"
     ]
    },
    {
     "name": "stderr",
     "output_type": "stream",
     "text": [
      "WARNING:tensorflow:From //anaconda3/lib/python3.7/site-packages/tensorflow/python/training/saver.py:1276: checkpoint_exists (from tensorflow.python.training.checkpoint_management) is deprecated and will be removed in a future version.\n",
      "Instructions for updating:\n",
      "Use standard file APIs to check for files with this prefix.\n",
      "INFO:tensorflow:Restoring parameters from data/weights/2015-06_v0_weights_cnn\n",
      "INFO:lib.loader: 4236 instances loaded from data/predict/2015-06.csv\n"
     ]
    },
    {
     "name": "stdout",
     "output_type": "stream",
     "text": [
      " done                                                                                no data_label\n"
     ]
    },
    {
     "name": "stderr",
     "output_type": "stream",
     "text": [
      "INFO:lib.vocab: 697 vocab loaded from data/vocab/2015-06_vocab.csv\n"
     ]
    },
    {
     "name": "stdout",
     "output_type": "stream",
     "text": [
      "\n",
      "\n",
      "PREDICTING\n",
      "\n",
      "\n"
     ]
    },
    {
     "name": "stderr",
     "output_type": "stream",
     "text": [
      "INFO:tensorflow:Restoring parameters from data/weights/2015-06_v0_weights_cnn\n",
      "INFO:lib.loader: 75 instances loaded from data/in_sample_test/2015-06_test.csv\n"
     ]
    },
    {
     "name": "stdout",
     "output_type": "stream",
     "text": [
      " done                                                                                "
     ]
    },
    {
     "name": "stderr",
     "output_type": "stream",
     "text": [
      "INFO:lib.vocab: 697 vocab loaded from data/vocab/2015-06_vocab.csv\n"
     ]
    },
    {
     "name": "stdout",
     "output_type": "stream",
     "text": [
      "\n",
      "\n",
      "PREDICTING\n",
      "\n",
      "\n"
     ]
    },
    {
     "name": "stderr",
     "output_type": "stream",
     "text": [
      "INFO:tensorflow:Restoring parameters from data/weights/2015-06_v1_weights_cnn\n",
      "INFO:lib.loader: 4236 instances loaded from data/predict/2015-06.csv\n"
     ]
    },
    {
     "name": "stdout",
     "output_type": "stream",
     "text": [
      " done                                                                                no data_label\n"
     ]
    },
    {
     "name": "stderr",
     "output_type": "stream",
     "text": [
      "INFO:lib.vocab: 697 vocab loaded from data/vocab/2015-06_vocab.csv\n"
     ]
    },
    {
     "name": "stdout",
     "output_type": "stream",
     "text": [
      "\n",
      "\n",
      "PREDICTING\n",
      "\n",
      "\n"
     ]
    },
    {
     "name": "stderr",
     "output_type": "stream",
     "text": [
      "INFO:tensorflow:Restoring parameters from data/weights/2015-06_v1_weights_cnn\n",
      "INFO:lib.loader: 75 instances loaded from data/in_sample_test/2015-06_test.csv\n"
     ]
    },
    {
     "name": "stdout",
     "output_type": "stream",
     "text": [
      " done                                                                                "
     ]
    },
    {
     "name": "stderr",
     "output_type": "stream",
     "text": [
      "INFO:lib.vocab: 697 vocab loaded from data/vocab/2015-06_vocab.csv\n"
     ]
    },
    {
     "name": "stdout",
     "output_type": "stream",
     "text": [
      "\n",
      "\n",
      "PREDICTING\n",
      "\n",
      "\n"
     ]
    },
    {
     "name": "stderr",
     "output_type": "stream",
     "text": [
      "INFO:tensorflow:Restoring parameters from data/weights/2015-06_v2_weights_cnn\n",
      "INFO:lib.loader: 4236 instances loaded from data/predict/2015-06.csv\n"
     ]
    },
    {
     "name": "stdout",
     "output_type": "stream",
     "text": [
      " done                                                                                no data_label\n"
     ]
    },
    {
     "name": "stderr",
     "output_type": "stream",
     "text": [
      "INFO:lib.vocab: 697 vocab loaded from data/vocab/2015-06_vocab.csv\n"
     ]
    },
    {
     "name": "stdout",
     "output_type": "stream",
     "text": [
      "\n",
      "\n",
      "PREDICTING\n",
      "\n",
      "\n"
     ]
    },
    {
     "name": "stderr",
     "output_type": "stream",
     "text": [
      "INFO:tensorflow:Restoring parameters from data/weights/2015-06_v2_weights_cnn\n",
      "INFO:lib.loader: 75 instances loaded from data/in_sample_test/2015-06_test.csv\n"
     ]
    },
    {
     "name": "stdout",
     "output_type": "stream",
     "text": [
      " done                                                                                "
     ]
    },
    {
     "name": "stderr",
     "output_type": "stream",
     "text": [
      "INFO:lib.vocab: 697 vocab loaded from data/vocab/2015-06_vocab.csv\n"
     ]
    },
    {
     "name": "stdout",
     "output_type": "stream",
     "text": [
      "\n",
      "\n",
      "PREDICTING\n",
      "\n",
      "\n"
     ]
    },
    {
     "name": "stderr",
     "output_type": "stream",
     "text": [
      "INFO:tensorflow:Restoring parameters from data/weights/2015-06_v3_weights_cnn\n",
      "INFO:lib.loader: 4236 instances loaded from data/predict/2015-06.csv\n"
     ]
    },
    {
     "name": "stdout",
     "output_type": "stream",
     "text": [
      " done                                                                                no data_label\n"
     ]
    },
    {
     "name": "stderr",
     "output_type": "stream",
     "text": [
      "INFO:lib.vocab: 697 vocab loaded from data/vocab/2015-06_vocab.csv\n"
     ]
    },
    {
     "name": "stdout",
     "output_type": "stream",
     "text": [
      "\n",
      "\n",
      "PREDICTING\n",
      "\n",
      "\n"
     ]
    },
    {
     "name": "stderr",
     "output_type": "stream",
     "text": [
      "INFO:tensorflow:Restoring parameters from data/weights/2015-06_v3_weights_cnn\n",
      "INFO:lib.loader: 75 instances loaded from data/in_sample_test/2015-06_test.csv\n"
     ]
    },
    {
     "name": "stdout",
     "output_type": "stream",
     "text": [
      " done                                                                                "
     ]
    },
    {
     "name": "stderr",
     "output_type": "stream",
     "text": [
      "INFO:lib.vocab: 697 vocab loaded from data/vocab/2015-06_vocab.csv\n"
     ]
    },
    {
     "name": "stdout",
     "output_type": "stream",
     "text": [
      "\n",
      "\n",
      "PREDICTING\n",
      "\n",
      "\n"
     ]
    },
    {
     "name": "stderr",
     "output_type": "stream",
     "text": [
      "INFO:tensorflow:Restoring parameters from data/weights/2015-06_v4_weights_cnn\n",
      "INFO:lib.loader: 4236 instances loaded from data/predict/2015-06.csv\n"
     ]
    },
    {
     "name": "stdout",
     "output_type": "stream",
     "text": [
      " done                                                                                no data_label\n"
     ]
    },
    {
     "name": "stderr",
     "output_type": "stream",
     "text": [
      "INFO:lib.vocab: 697 vocab loaded from data/vocab/2015-06_vocab.csv\n"
     ]
    },
    {
     "name": "stdout",
     "output_type": "stream",
     "text": [
      "\n",
      "\n",
      "PREDICTING\n",
      "\n",
      "\n"
     ]
    },
    {
     "name": "stderr",
     "output_type": "stream",
     "text": [
      "INFO:tensorflow:Restoring parameters from data/weights/2015-06_v4_weights_cnn\n",
      "INFO:lib.loader: 75 instances loaded from data/in_sample_test/2015-06_test.csv\n"
     ]
    },
    {
     "name": "stdout",
     "output_type": "stream",
     "text": [
      " done                                                                                Meeting 2015-06 \n",
      " Accuracy is  0.93 \n",
      " Recall: a rate hike -- 0.88, no rate hike -- 0.90, no opinion --  0.96. \n",
      " Precision: rate hike --  1.00, no rate hike --  0.90, no opinion -- 0.94. \n",
      "\n",
      "\n"
     ]
    }
   ],
   "source": [
    "\n",
    "meeting_list = ['2015-06']\n",
    "\n",
    "for meeting in meeting_list:\n",
    "    \n",
    "    for i in range(5):\n",
    "        version = 'v' + str(i)\n",
    "        json = 'data/config/<meeting>_<version>_config.json'\n",
    "        json = json.replace('<meeting>', meeting)\n",
    "        json = json.replace('<version>', version)\n",
    "        \n",
    "        # in-sample test\n",
    "        fp_in = 'data/predict/<meeting>.csv'\n",
    "        fp_out = 'data/predict_result/<meeting>.csv'\n",
    "        fp_in = fp_in.replace('<meeting>', meeting)\n",
    "        fp_out = fp_out.replace('<meeting>', meeting)\n",
    "        model = CNNModel(json)\n",
    "        model.predict(fp_in, fp_out, has_label = False)\n",
    "        \n",
    "        # predict\n",
    "        fp_in = 'data/in_sample_test/<meeting>_test.csv'\n",
    "        fp_out = 'data/in_sample_test_result/<meeting>.csv'\n",
    "        fp_in = fp_in.replace('<meeting>', meeting)\n",
    "        fp_out = fp_out.replace('<meeting>', meeting)\n",
    "        model = CNNModel(json)\n",
    "        model.predict(fp_in, fp_out, has_label = True)\n",
    "\n",
    "\n",
    "\n",
    "    # in-sample test\n",
    "    data_fp = 'data/in_sample_test_result/<meeting>.csv'\n",
    "    label_fp = 'data/in_sample_test/<meeting>_test.csv'\n",
    "    analysis(data_fp, meeting, label_fp)\n",
    "\n",
    "    # predict\n",
    "    data_fp = 'data/predict_result/<meeting>.csv'\n",
    "    analysis(data_fp, meeting)\n",
    "\n"
   ]
  },
  {
   "cell_type": "code",
   "execution_count": null,
   "metadata": {},
   "outputs": [],
   "source": []
  }
 ],
 "metadata": {
  "kernelspec": {
   "display_name": "Python 3",
   "language": "python",
   "name": "python3"
  },
  "language_info": {
   "codemirror_mode": {
    "name": "ipython",
    "version": 3
   },
   "file_extension": ".py",
   "mimetype": "text/x-python",
   "name": "python",
   "nbconvert_exporter": "python",
   "pygments_lexer": "ipython3",
   "version": "3.7.3"
  }
 },
 "nbformat": 4,
 "nbformat_minor": 2
}
